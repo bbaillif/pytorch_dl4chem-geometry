{
 "cells": [
  {
   "cell_type": "code",
   "execution_count": 7,
   "metadata": {},
   "outputs": [],
   "source": [
    "#!/usr/bin/env python\n",
    "# coding: utf-8\n",
    "\n",
    "import os\n",
    "\n",
    "from test_tube import Experiment\n",
    "from pytorch_lightning import Trainer\n",
    "from pytorch_lightning import loggers as pl_loggers\n",
    "from pytorch_lightning.utilities.seed import seed_everything\n",
    "from argparse import ArgumentParser\n",
    "\n",
    "from pathlib import Path\n",
    "import numpy as np\n",
    "\n",
    "from rdkit import Chem\n",
    "from rdkit.Chem import AllChem\n",
    "from rdkit.Chem import Draw\n",
    "import copy\n",
    "\n",
    "from LitCoordAECopy1 import LitCoordAE\n",
    "from data_utils import CODDataModule"
   ]
  },
  {
   "cell_type": "code",
   "execution_count": 19,
   "metadata": {},
   "outputs": [],
   "source": [
    "checkpoint_start='logs/default/version_39/checkpoints/epoch=0-step=45.ckpt'\n",
    "model = LitCoordAE.load_from_checkpoint(checkpoint_start, strict=False)"
   ]
  },
  {
   "cell_type": "code",
   "execution_count": 21,
   "metadata": {},
   "outputs": [
    {
     "name": "stderr",
     "output_type": "stream",
     "text": [
      "Global seed set to 1334\n"
     ]
    }
   ],
   "source": [
    "dataset= 'QM9'\n",
    "alignment_type = 'kabsch'\n",
    "seed=1334\n",
    "batch_size=20\n",
    "val_num_samples=10\n",
    "use_X=False\n",
    "use_R=False\n",
    "w_reg=1e-5\n",
    "refine_mom=0.99\n",
    "refine_steps=0\n",
    "useFF=False\n",
    "dim_h=50\n",
    "dim_f=100\n",
    "mpnn_steps=5\n",
    "checkpoint_start='logs/default/version_38/checkpoints/epoch=94-step=35624.ckpt'\n",
    "\n",
    "data_dir = '/home/bb596/rds/hpc-work/dl4chem/'\n",
    "dim_edge = 10\n",
    "\n",
    "seed_everything(seed)\n",
    "\n",
    "if dataset == 'QM9' :\n",
    "    mpnn_steps = 3\n",
    "    n_max = 9\n",
    "    dim_node = 22\n",
    "else :\n",
    "    mpnn_steps = mpnn_steps\n",
    "    n_max = 50\n",
    "    dim_node = 35\n",
    "\n",
    "data_module = CODDataModule(dataset=dataset, \n",
    "                            data_dir=data_dir, \n",
    "                            batch_size=batch_size, \n",
    "                            val_num_sample=val_num_samples)"
   ]
  },
  {
   "cell_type": "code",
   "execution_count": 8,
   "metadata": {},
   "outputs": [],
   "source": [
    "if checkpoint_start is None :\n",
    "    model = LitCoordAE(n_max=n_max,\n",
    "                       dim_node=dim_node,\n",
    "                       dim_edge=dim_edge, \n",
    "                       dim_h=dim_h, \n",
    "                       dim_f=dim_f, \n",
    "                       batch_size=batch_size, \n",
    "                       mpnn_steps=mpnn_steps, \n",
    "                       alignment_type=alignment_type, \n",
    "                       use_X=use_X, \n",
    "                       use_R=use_R,\n",
    "                       useFF=useFF,\n",
    "                       refine_steps=refine_steps, \n",
    "                       refine_mom=refine_mom, \n",
    "                       w_reg=w_reg,\n",
    "                       val_num_samples=val_num_samples)\n",
    "\n",
    "else :\n",
    "    model = LitCoordAE.load_from_checkpoint(checkpoint_start, strict=False,\n",
    "                                            n_max=n_max,\n",
    "                                            dim_node=dim_node, \n",
    "                                            dim_edge=dim_edge,\n",
    "                                            dim_h=dim_h,\n",
    "                                            dim_f=dim_f,\n",
    "                                            batch_size=batch_size, \n",
    "                                            mpnn_steps=mpnn_steps, \n",
    "                                            alignment_type=alignment_type, \n",
    "                                            use_X=use_X, \n",
    "                                            use_R=use_R,\n",
    "                                            useFF=useFF,\n",
    "                                            refine_steps=refine_steps, \n",
    "                                            refine_mom=refine_mom, \n",
    "                                            w_reg=w_reg,\n",
    "                                            val_num_samples=val_num_samples)"
   ]
  },
  {
   "cell_type": "code",
   "execution_count": 22,
   "metadata": {},
   "outputs": [],
   "source": [
    "data_module.setup()"
   ]
  },
  {
   "cell_type": "code",
   "execution_count": 16,
   "metadata": {},
   "outputs": [],
   "source": [
    "def optimizeWithFF(mol):\n",
    "\n",
    "    opti_mol = copy.deepcopy(mol)\n",
    "    opti_mol = Chem.AddHs(opti_mol, addCoords=True)\n",
    "#     print(len(opti_mol.GetConformers()))\n",
    "    AllChem.MMFFOptimizeMolecule(opti_mol)\n",
    "    opti_mol = Chem.RemoveHs(opti_mol)\n",
    "\n",
    "    return opti_mol\n",
    "\n",
    "def generateETKDGConf(mol) :\n",
    "    \n",
    "    original_mol = copy.deepcopy(mol)\n",
    "    original_mol.RemoveConformer(0)\n",
    "    original_mol = Chem.AddHs(original_mol)\n",
    "    \n",
    "    try : # EmbedMolecule might not find a conformation\n",
    "        AllChem.EmbedMolecule(original_mol)\n",
    "        original_mol = Chem.RemoveHs(original_mol)\n",
    "        opti_mol = copy.deepcopy(original_mol)\n",
    "        AllChem.MMFFOptimizeMolecule(opti_mol)\n",
    "        opti_mol = Chem.RemoveHs(opti_mol)\n",
    "    except :\n",
    "        original_mol = None\n",
    "        opti_mol = None\n",
    "\n",
    "    return original_mol, opti_mol\n",
    "\n",
    "def getRMSD(reference_mol, positions):\n",
    "    \"\"\"\n",
    "    Args :\n",
    "        reference_mol : RDKit.Molecule\n",
    "        positions : Tensor(n_atom, 3)\n",
    "    \"\"\"\n",
    "\n",
    "    n_atom = reference_mol.GetNumAtoms()\n",
    "\n",
    "    test_cf = Chem.rdchem.Conformer(n_atom)\n",
    "    for k in range(n_atom):\n",
    "        test_cf.SetAtomPosition(k, positions[k].tolist())\n",
    "\n",
    "    test_mol = copy.deepcopy(reference_mol)\n",
    "    test_mol.RemoveConformer(0)\n",
    "    test_mol.AddConformer(test_cf)\n",
    "\n",
    "    try :\n",
    "        test_mol_optimized = optimizeWithFF(test_mol)\n",
    "        rmsd_opti = AllChem.AlignMol(reference_mol, test_mol_optimized)\n",
    "    except :\n",
    "        test_mol_optimized = None\n",
    "        rmsd_opti = None\n",
    "        \n",
    "    rmsd_raw = AllChem.AlignMol(reference_mol, test_mol)\n",
    "        \n",
    "    return rmsd_raw, rmsd_opti, test_mol, test_mol_optimized"
   ]
  },
  {
   "cell_type": "code",
   "execution_count": 17,
   "metadata": {},
   "outputs": [],
   "source": [
    "def generate_molecules(batch_idx, batch, gen_dir) :\n",
    "    print(batch_idx)\n",
    "    tensors, mols = batch\n",
    "    nodes, masks, edges, proximity, pos = tensors\n",
    "    \n",
    "    postZ_mu, postZ_lsgms, priorZ_mu, priorZ_lsgms, X_pred, PX_pred = model(nodes, masks, edges, proximity, pos)\n",
    "    \n",
    "    rmsds_raw = []\n",
    "    rmsds_opti = []\n",
    "    for mol_idx, (ref_mol, gen_pos) in enumerate(zip(mols, PX_pred)) :\n",
    "        i = batch_idx * len(mols) + mol_idx\n",
    "#         print(i)\n",
    "        \n",
    "        rmsd_raw, rmsd_opti, test_mol, test_mol_optimized = getRMSD(ref_mol, gen_pos)\n",
    "        rmsds_raw.append(rmsd_raw)\n",
    "        if rmsd_opti is not None :\n",
    "            rmsds_opti.append(rmsd_opti)\n",
    "        w = Chem.SDWriter(f\"{gen_dir}{i}.sdf\")\n",
    "        \n",
    "        etkdg_conf, mmff_conf = generateETKDGConf(ref_mol)\n",
    "        \n",
    "        final_mol = copy.deepcopy(ref_mol)\n",
    "        for mol in [test_mol, test_mol_optimized, etkdg_conf, mmff_conf] :\n",
    "            if mol != None :\n",
    "                final_mol.AddConformer(mol.GetConformer(0), assignId=True)\n",
    "            \n",
    "        Chem.rdMolAlign.AlignMolConformers(final_mol)\n",
    "            \n",
    "        for conf_id in range(len(final_mol.GetConformers())) :\n",
    "            w.write(final_mol, confId=conf_id)\n",
    "        \n",
    "        w.close()\n",
    "        \n",
    "        AllChem.Compute2DCoords(final_mol)\n",
    "        Draw.MolToFile(final_mol, f\"{gen_dir}{i}.png\") \n",
    "\n",
    "    rmsds_raw = np.array(rmsds_raw)\n",
    "    rmsds_opti = np.array(rmsds_opti)\n",
    "#     print(f\"Mean RMSD raw = {rmsds_raw.mean()}\")\n",
    "#     print(f\"Median RMSD raw = {np.median(rmsds_raw)}\")\n",
    "#     print(f\"Mean RMSD opti = {rmsds_opti.mean()}\")\n",
    "#     print(f\"Median RMSD opti = {np.median(rmsds_opti)}\")"
   ]
  },
  {
   "cell_type": "code",
   "execution_count": 12,
   "metadata": {},
   "outputs": [
    {
     "name": "stdout",
     "output_type": "stream",
     "text": [
      "0\n"
     ]
    },
    {
     "name": "stderr",
     "output_type": "stream",
     "text": [
      "RDKit WARNING: [08:38:11] UFFTYPER: Warning: hybridization set to SP3 for atom 0\n"
     ]
    },
    {
     "name": "stdout",
     "output_type": "stream",
     "text": [
      "1\n"
     ]
    },
    {
     "ename": "KeyboardInterrupt",
     "evalue": "",
     "output_type": "error",
     "traceback": [
      "\u001b[0;31m---------------------------------------------------------------------------\u001b[0m",
      "\u001b[0;31mKeyboardInterrupt\u001b[0m                         Traceback (most recent call last)",
      "\u001b[0;32m<ipython-input-12-795bef8639b5>\u001b[0m in \u001b[0;36m<module>\u001b[0;34m\u001b[0m\n\u001b[1;32m      2\u001b[0m \u001b[0mPath\u001b[0m\u001b[0;34m(\u001b[0m\u001b[0mgen_dir\u001b[0m\u001b[0;34m)\u001b[0m\u001b[0;34m.\u001b[0m\u001b[0mmkdir\u001b[0m\u001b[0;34m(\u001b[0m\u001b[0mexist_ok\u001b[0m\u001b[0;34m=\u001b[0m\u001b[0;32mTrue\u001b[0m\u001b[0;34m)\u001b[0m\u001b[0;34m\u001b[0m\u001b[0;34m\u001b[0m\u001b[0m\n\u001b[1;32m      3\u001b[0m \u001b[0;32mfor\u001b[0m \u001b[0mbatch_idx\u001b[0m\u001b[0;34m,\u001b[0m \u001b[0mbatch\u001b[0m \u001b[0;32min\u001b[0m \u001b[0menumerate\u001b[0m\u001b[0;34m(\u001b[0m\u001b[0mdata_module\u001b[0m\u001b[0;34m.\u001b[0m\u001b[0mtest_dataloader\u001b[0m\u001b[0;34m(\u001b[0m\u001b[0;34m)\u001b[0m\u001b[0;34m)\u001b[0m \u001b[0;34m:\u001b[0m\u001b[0;34m\u001b[0m\u001b[0;34m\u001b[0m\u001b[0m\n\u001b[0;32m----> 4\u001b[0;31m     \u001b[0mgenerate_molecules\u001b[0m\u001b[0;34m(\u001b[0m\u001b[0mbatch_idx\u001b[0m\u001b[0;34m,\u001b[0m \u001b[0mbatch\u001b[0m\u001b[0;34m,\u001b[0m \u001b[0mgen_dir\u001b[0m\u001b[0;34m)\u001b[0m\u001b[0;34m\u001b[0m\u001b[0;34m\u001b[0m\u001b[0m\n\u001b[0m",
      "\u001b[0;32m<ipython-input-11-9795f9a7f1ae>\u001b[0m in \u001b[0;36mgenerate_molecules\u001b[0;34m(batch_idx, batch, gen_dir)\u001b[0m\n\u001b[1;32m      4\u001b[0m     \u001b[0mnodes\u001b[0m\u001b[0;34m,\u001b[0m \u001b[0mmasks\u001b[0m\u001b[0;34m,\u001b[0m \u001b[0medges\u001b[0m\u001b[0;34m,\u001b[0m \u001b[0mproximity\u001b[0m\u001b[0;34m,\u001b[0m \u001b[0mpos\u001b[0m \u001b[0;34m=\u001b[0m \u001b[0mtensors\u001b[0m\u001b[0;34m\u001b[0m\u001b[0;34m\u001b[0m\u001b[0m\n\u001b[1;32m      5\u001b[0m \u001b[0;34m\u001b[0m\u001b[0m\n\u001b[0;32m----> 6\u001b[0;31m     \u001b[0mpostZ_mu\u001b[0m\u001b[0;34m,\u001b[0m \u001b[0mpostZ_lsgms\u001b[0m\u001b[0;34m,\u001b[0m \u001b[0mpriorZ_mu\u001b[0m\u001b[0;34m,\u001b[0m \u001b[0mpriorZ_lsgms\u001b[0m\u001b[0;34m,\u001b[0m \u001b[0mX_pred\u001b[0m\u001b[0;34m,\u001b[0m \u001b[0mPX_pred\u001b[0m \u001b[0;34m=\u001b[0m \u001b[0mmodel\u001b[0m\u001b[0;34m(\u001b[0m\u001b[0mnodes\u001b[0m\u001b[0;34m,\u001b[0m \u001b[0mmasks\u001b[0m\u001b[0;34m,\u001b[0m \u001b[0medges\u001b[0m\u001b[0;34m,\u001b[0m \u001b[0mproximity\u001b[0m\u001b[0;34m,\u001b[0m \u001b[0mpos\u001b[0m\u001b[0;34m)\u001b[0m\u001b[0;34m\u001b[0m\u001b[0;34m\u001b[0m\u001b[0m\n\u001b[0m\u001b[1;32m      7\u001b[0m \u001b[0;34m\u001b[0m\u001b[0m\n\u001b[1;32m      8\u001b[0m     \u001b[0mrmsds_raw\u001b[0m \u001b[0;34m=\u001b[0m \u001b[0;34m[\u001b[0m\u001b[0;34m]\u001b[0m\u001b[0;34m\u001b[0m\u001b[0;34m\u001b[0m\u001b[0m\n",
      "\u001b[0;32m~/.conda/envs/rdenv/lib/python3.7/site-packages/torch/nn/modules/module.py\u001b[0m in \u001b[0;36m_call_impl\u001b[0;34m(self, *input, **kwargs)\u001b[0m\n\u001b[1;32m    725\u001b[0m             \u001b[0mresult\u001b[0m \u001b[0;34m=\u001b[0m \u001b[0mself\u001b[0m\u001b[0;34m.\u001b[0m\u001b[0m_slow_forward\u001b[0m\u001b[0;34m(\u001b[0m\u001b[0;34m*\u001b[0m\u001b[0minput\u001b[0m\u001b[0;34m,\u001b[0m \u001b[0;34m**\u001b[0m\u001b[0mkwargs\u001b[0m\u001b[0;34m)\u001b[0m\u001b[0;34m\u001b[0m\u001b[0;34m\u001b[0m\u001b[0m\n\u001b[1;32m    726\u001b[0m         \u001b[0;32melse\u001b[0m\u001b[0;34m:\u001b[0m\u001b[0;34m\u001b[0m\u001b[0;34m\u001b[0m\u001b[0m\n\u001b[0;32m--> 727\u001b[0;31m             \u001b[0mresult\u001b[0m \u001b[0;34m=\u001b[0m \u001b[0mself\u001b[0m\u001b[0;34m.\u001b[0m\u001b[0mforward\u001b[0m\u001b[0;34m(\u001b[0m\u001b[0;34m*\u001b[0m\u001b[0minput\u001b[0m\u001b[0;34m,\u001b[0m \u001b[0;34m**\u001b[0m\u001b[0mkwargs\u001b[0m\u001b[0;34m)\u001b[0m\u001b[0;34m\u001b[0m\u001b[0;34m\u001b[0m\u001b[0m\n\u001b[0m\u001b[1;32m    728\u001b[0m         for hook in itertools.chain(\n\u001b[1;32m    729\u001b[0m                 \u001b[0m_global_forward_hooks\u001b[0m\u001b[0;34m.\u001b[0m\u001b[0mvalues\u001b[0m\u001b[0;34m(\u001b[0m\u001b[0;34m)\u001b[0m\u001b[0;34m,\u001b[0m\u001b[0;34m\u001b[0m\u001b[0;34m\u001b[0m\u001b[0m\n",
      "\u001b[0;32m~/pytorch_dl4chem-geometry/LitCoordAECopy1.py\u001b[0m in \u001b[0;36mforward\u001b[0;34m(self, nodes, masks, edges, proximity, pos)\u001b[0m\n\u001b[1;32m     97\u001b[0m         \u001b[0;31m# p(Z|G) -- prior of Z\u001b[0m\u001b[0;34m\u001b[0m\u001b[0;34m\u001b[0m\u001b[0;34m\u001b[0m\u001b[0m\n\u001b[1;32m     98\u001b[0m \u001b[0;34m\u001b[0m\u001b[0m\n\u001b[0;32m---> 99\u001b[0;31m         \u001b[0mpriorZ_edge_wgt\u001b[0m \u001b[0;34m=\u001b[0m \u001b[0mself\u001b[0m\u001b[0;34m.\u001b[0m\u001b[0medge_nn_prior_z\u001b[0m\u001b[0;34m(\u001b[0m\u001b[0medge_2\u001b[0m\u001b[0;34m)\u001b[0m \u001b[0;31m#[batch_size, n_max, n_max, dim_h, dim_h]\u001b[0m\u001b[0;34m\u001b[0m\u001b[0;34m\u001b[0m\u001b[0m\n\u001b[0m\u001b[1;32m    100\u001b[0m         \u001b[0mpriorZ_hidden\u001b[0m \u001b[0;34m=\u001b[0m \u001b[0mself\u001b[0m\u001b[0;34m.\u001b[0m\u001b[0mmpnn_prior_z\u001b[0m\u001b[0;34m(\u001b[0m\u001b[0mpriorZ_edge_wgt\u001b[0m\u001b[0;34m,\u001b[0m \u001b[0mnodes_embed\u001b[0m\u001b[0;34m,\u001b[0m \u001b[0mmasks\u001b[0m\u001b[0;34m)\u001b[0m \u001b[0;31m# (batch_size, n_max, dim_h), nodes_embed like\u001b[0m\u001b[0;34m\u001b[0m\u001b[0;34m\u001b[0m\u001b[0m\n\u001b[1;32m    101\u001b[0m         \u001b[0mpriorZ_out\u001b[0m \u001b[0;34m=\u001b[0m \u001b[0mself\u001b[0m\u001b[0;34m.\u001b[0m\u001b[0mlatent_nn_prior_z\u001b[0m\u001b[0;34m(\u001b[0m\u001b[0mpriorZ_hidden\u001b[0m\u001b[0;34m,\u001b[0m \u001b[0mnodes_embed\u001b[0m\u001b[0;34m,\u001b[0m \u001b[0mmasks\u001b[0m\u001b[0;34m)\u001b[0m \u001b[0;31m# (batch_size, n_max, 2*dim_h)\u001b[0m\u001b[0;34m\u001b[0m\u001b[0;34m\u001b[0m\u001b[0m\n",
      "\u001b[0;32m~/.conda/envs/rdenv/lib/python3.7/site-packages/torch/nn/modules/module.py\u001b[0m in \u001b[0;36m_call_impl\u001b[0;34m(self, *input, **kwargs)\u001b[0m\n\u001b[1;32m    725\u001b[0m             \u001b[0mresult\u001b[0m \u001b[0;34m=\u001b[0m \u001b[0mself\u001b[0m\u001b[0;34m.\u001b[0m\u001b[0m_slow_forward\u001b[0m\u001b[0;34m(\u001b[0m\u001b[0;34m*\u001b[0m\u001b[0minput\u001b[0m\u001b[0;34m,\u001b[0m \u001b[0;34m**\u001b[0m\u001b[0mkwargs\u001b[0m\u001b[0;34m)\u001b[0m\u001b[0;34m\u001b[0m\u001b[0;34m\u001b[0m\u001b[0m\n\u001b[1;32m    726\u001b[0m         \u001b[0;32melse\u001b[0m\u001b[0;34m:\u001b[0m\u001b[0;34m\u001b[0m\u001b[0;34m\u001b[0m\u001b[0m\n\u001b[0;32m--> 727\u001b[0;31m             \u001b[0mresult\u001b[0m \u001b[0;34m=\u001b[0m \u001b[0mself\u001b[0m\u001b[0;34m.\u001b[0m\u001b[0mforward\u001b[0m\u001b[0;34m(\u001b[0m\u001b[0;34m*\u001b[0m\u001b[0minput\u001b[0m\u001b[0;34m,\u001b[0m \u001b[0;34m**\u001b[0m\u001b[0mkwargs\u001b[0m\u001b[0;34m)\u001b[0m\u001b[0;34m\u001b[0m\u001b[0;34m\u001b[0m\u001b[0m\n\u001b[0m\u001b[1;32m    728\u001b[0m         for hook in itertools.chain(\n\u001b[1;32m    729\u001b[0m                 \u001b[0m_global_forward_hooks\u001b[0m\u001b[0;34m.\u001b[0m\u001b[0mvalues\u001b[0m\u001b[0;34m(\u001b[0m\u001b[0;34m)\u001b[0m\u001b[0;34m,\u001b[0m\u001b[0;34m\u001b[0m\u001b[0;34m\u001b[0m\u001b[0m\n",
      "\u001b[0;32m~/pytorch_dl4chem-geometry/LitCoordAECopy1.py\u001b[0m in \u001b[0;36mforward\u001b[0;34m(self, edges)\u001b[0m\n\u001b[1;32m    361\u001b[0m \u001b[0;34m\u001b[0m\u001b[0m\n\u001b[1;32m    362\u001b[0m         \u001b[0memb1\u001b[0m \u001b[0;34m=\u001b[0m \u001b[0mtorch\u001b[0m\u001b[0;34m.\u001b[0m\u001b[0msigmoid\u001b[0m\u001b[0;34m(\u001b[0m\u001b[0mself\u001b[0m\u001b[0;34m.\u001b[0m\u001b[0mFC_hidden\u001b[0m\u001b[0;34m(\u001b[0m\u001b[0medges_view\u001b[0m\u001b[0;34m)\u001b[0m\u001b[0;34m)\u001b[0m\u001b[0;34m\u001b[0m\u001b[0;34m\u001b[0m\u001b[0m\n\u001b[0;32m--> 363\u001b[0;31m         \u001b[0memb2\u001b[0m \u001b[0;34m=\u001b[0m \u001b[0mtorch\u001b[0m\u001b[0;34m.\u001b[0m\u001b[0mtanh\u001b[0m\u001b[0;34m(\u001b[0m\u001b[0mself\u001b[0m\u001b[0;34m.\u001b[0m\u001b[0mFC_output\u001b[0m\u001b[0;34m(\u001b[0m\u001b[0memb1\u001b[0m\u001b[0;34m)\u001b[0m\u001b[0;34m)\u001b[0m\u001b[0;34m\u001b[0m\u001b[0;34m\u001b[0m\u001b[0m\n\u001b[0m\u001b[1;32m    364\u001b[0m \u001b[0;34m\u001b[0m\u001b[0m\n\u001b[1;32m    365\u001b[0m         \u001b[0medges_embed\u001b[0m \u001b[0;34m=\u001b[0m \u001b[0memb2\u001b[0m\u001b[0;34m.\u001b[0m\u001b[0mview\u001b[0m\u001b[0;34m(\u001b[0m\u001b[0;34m-\u001b[0m\u001b[0;36m1\u001b[0m\u001b[0;34m,\u001b[0m \u001b[0mself\u001b[0m\u001b[0;34m.\u001b[0m\u001b[0mn_max\u001b[0m\u001b[0;34m,\u001b[0m \u001b[0mself\u001b[0m\u001b[0;34m.\u001b[0m\u001b[0mn_max\u001b[0m\u001b[0;34m,\u001b[0m \u001b[0mself\u001b[0m\u001b[0;34m.\u001b[0m\u001b[0mhidden_dim\u001b[0m\u001b[0;34m,\u001b[0m \u001b[0mself\u001b[0m\u001b[0;34m.\u001b[0m\u001b[0mhidden_dim\u001b[0m\u001b[0;34m)\u001b[0m\u001b[0;34m\u001b[0m\u001b[0;34m\u001b[0m\u001b[0m\n",
      "\u001b[0;31mKeyboardInterrupt\u001b[0m: "
     ]
    }
   ],
   "source": [
    "gen_dir = 'generation_sdf_cod_v2/'\n",
    "Path(gen_dir).mkdir(exist_ok=True)\n",
    "for batch_idx, batch in enumerate(data_module.test_dataloader()) :\n",
    "    generate_molecules(batch_idx, batch, gen_dir)"
   ]
  },
  {
   "cell_type": "code",
   "execution_count": 23,
   "metadata": {},
   "outputs": [
    {
     "name": "stdout",
     "output_type": "stream",
     "text": [
      "0\n",
      "1\n",
      "2\n",
      "3\n"
     ]
    },
    {
     "ename": "KeyboardInterrupt",
     "evalue": "",
     "output_type": "error",
     "traceback": [
      "\u001b[0;31m---------------------------------------------------------------------------\u001b[0m",
      "\u001b[0;31mKeyboardInterrupt\u001b[0m                         Traceback (most recent call last)",
      "\u001b[0;32m<ipython-input-23-398115537875>\u001b[0m in \u001b[0;36m<module>\u001b[0;34m\u001b[0m\n\u001b[1;32m      2\u001b[0m \u001b[0mPath\u001b[0m\u001b[0;34m(\u001b[0m\u001b[0mgen_dir\u001b[0m\u001b[0;34m)\u001b[0m\u001b[0;34m.\u001b[0m\u001b[0mmkdir\u001b[0m\u001b[0;34m(\u001b[0m\u001b[0mexist_ok\u001b[0m\u001b[0;34m=\u001b[0m\u001b[0;32mTrue\u001b[0m\u001b[0;34m)\u001b[0m\u001b[0;34m\u001b[0m\u001b[0;34m\u001b[0m\u001b[0m\n\u001b[1;32m      3\u001b[0m \u001b[0;32mfor\u001b[0m \u001b[0mbatch_idx\u001b[0m\u001b[0;34m,\u001b[0m \u001b[0mbatch\u001b[0m \u001b[0;32min\u001b[0m \u001b[0menumerate\u001b[0m\u001b[0;34m(\u001b[0m\u001b[0mdata_module\u001b[0m\u001b[0;34m.\u001b[0m\u001b[0mtrain_dataloader\u001b[0m\u001b[0;34m(\u001b[0m\u001b[0;34m)\u001b[0m\u001b[0;34m)\u001b[0m \u001b[0;34m:\u001b[0m\u001b[0;34m\u001b[0m\u001b[0;34m\u001b[0m\u001b[0m\n\u001b[0;32m----> 4\u001b[0;31m     \u001b[0mgenerate_molecules\u001b[0m\u001b[0;34m(\u001b[0m\u001b[0mbatch_idx\u001b[0m\u001b[0;34m,\u001b[0m \u001b[0mbatch\u001b[0m\u001b[0;34m,\u001b[0m \u001b[0mgen_dir\u001b[0m\u001b[0;34m)\u001b[0m\u001b[0;34m\u001b[0m\u001b[0;34m\u001b[0m\u001b[0m\n\u001b[0m",
      "\u001b[0;32m<ipython-input-17-9795f9a7f1ae>\u001b[0m in \u001b[0;36mgenerate_molecules\u001b[0;34m(batch_idx, batch, gen_dir)\u001b[0m\n\u001b[1;32m     33\u001b[0m \u001b[0;34m\u001b[0m\u001b[0m\n\u001b[1;32m     34\u001b[0m         \u001b[0mAllChem\u001b[0m\u001b[0;34m.\u001b[0m\u001b[0mCompute2DCoords\u001b[0m\u001b[0;34m(\u001b[0m\u001b[0mfinal_mol\u001b[0m\u001b[0;34m)\u001b[0m\u001b[0;34m\u001b[0m\u001b[0;34m\u001b[0m\u001b[0m\n\u001b[0;32m---> 35\u001b[0;31m         \u001b[0mDraw\u001b[0m\u001b[0;34m.\u001b[0m\u001b[0mMolToFile\u001b[0m\u001b[0;34m(\u001b[0m\u001b[0mfinal_mol\u001b[0m\u001b[0;34m,\u001b[0m \u001b[0;34mf\"{gen_dir}{i}.png\"\u001b[0m\u001b[0;34m)\u001b[0m\u001b[0;34m\u001b[0m\u001b[0;34m\u001b[0m\u001b[0m\n\u001b[0m\u001b[1;32m     36\u001b[0m \u001b[0;34m\u001b[0m\u001b[0m\n\u001b[1;32m     37\u001b[0m     \u001b[0mrmsds_raw\u001b[0m \u001b[0;34m=\u001b[0m \u001b[0mnp\u001b[0m\u001b[0;34m.\u001b[0m\u001b[0marray\u001b[0m\u001b[0;34m(\u001b[0m\u001b[0mrmsds_raw\u001b[0m\u001b[0;34m)\u001b[0m\u001b[0;34m\u001b[0m\u001b[0;34m\u001b[0m\u001b[0m\n",
      "\u001b[0;32m~/.conda/envs/rdenv/lib/python3.7/site-packages/rdkit/Chem/Draw/__init__.py\u001b[0m in \u001b[0;36mMolToFile\u001b[0;34m(mol, filename, size, kekulize, wedgeBonds, imageType, fitImage, options, **kwargs)\u001b[0m\n\u001b[1;32m    260\u001b[0m   data = drawfn(mol, size, kwargs.get('highlightAtoms', []), kwargs.get('legend', ''),\n\u001b[1;32m    261\u001b[0m                 \u001b[0mhighlightBonds\u001b[0m\u001b[0;34m=\u001b[0m\u001b[0mkwargs\u001b[0m\u001b[0;34m.\u001b[0m\u001b[0mget\u001b[0m\u001b[0;34m(\u001b[0m\u001b[0;34m'highlightBonds'\u001b[0m\u001b[0;34m,\u001b[0m \u001b[0;34m[\u001b[0m\u001b[0;34m]\u001b[0m\u001b[0;34m)\u001b[0m\u001b[0;34m,\u001b[0m \u001b[0mdrawOptions\u001b[0m\u001b[0;34m=\u001b[0m\u001b[0moptions\u001b[0m\u001b[0;34m,\u001b[0m\u001b[0;34m\u001b[0m\u001b[0;34m\u001b[0m\u001b[0m\n\u001b[0;32m--> 262\u001b[0;31m                 kekulize=kekulize, wedgeBonds=wedgeBonds, returnPNG=True)\n\u001b[0m\u001b[1;32m    263\u001b[0m   \u001b[0;32mwith\u001b[0m \u001b[0mopen\u001b[0m\u001b[0;34m(\u001b[0m\u001b[0mfilename\u001b[0m\u001b[0;34m,\u001b[0m \u001b[0;34m'w+'\u001b[0m \u001b[0;34m+\u001b[0m \u001b[0mmode\u001b[0m\u001b[0;34m)\u001b[0m \u001b[0;32mas\u001b[0m \u001b[0moutf\u001b[0m\u001b[0;34m:\u001b[0m\u001b[0;34m\u001b[0m\u001b[0;34m\u001b[0m\u001b[0m\n\u001b[1;32m    264\u001b[0m     \u001b[0moutf\u001b[0m\u001b[0;34m.\u001b[0m\u001b[0mwrite\u001b[0m\u001b[0;34m(\u001b[0m\u001b[0mdata\u001b[0m\u001b[0;34m)\u001b[0m\u001b[0;34m\u001b[0m\u001b[0;34m\u001b[0m\u001b[0m\n",
      "\u001b[0;32m~/.conda/envs/rdenv/lib/python3.7/site-packages/rdkit/Chem/Draw/__init__.py\u001b[0m in \u001b[0;36m_moltoimg\u001b[0;34m(mol, sz, highlights, legend, returnPNG, drawOptions, **kwargs)\u001b[0m\n\u001b[1;32m    443\u001b[0m     \u001b[0mbondHighlights\u001b[0m \u001b[0;34m=\u001b[0m \u001b[0mkwargs\u001b[0m\u001b[0;34m.\u001b[0m\u001b[0mget\u001b[0m\u001b[0;34m(\u001b[0m\u001b[0;34m'highlightBonds'\u001b[0m\u001b[0;34m,\u001b[0m \u001b[0;32mNone\u001b[0m\u001b[0;34m)\u001b[0m\u001b[0;34m\u001b[0m\u001b[0;34m\u001b[0m\u001b[0m\n\u001b[1;32m    444\u001b[0m     d2d.DrawMolecule(mc, legend=legend or \"\", highlightAtoms=highlights or [],\n\u001b[0;32m--> 445\u001b[0;31m                      highlightBonds=bondHighlights or [])\n\u001b[0m\u001b[1;32m    446\u001b[0m     \u001b[0md2d\u001b[0m\u001b[0;34m.\u001b[0m\u001b[0mFinishDrawing\u001b[0m\u001b[0;34m(\u001b[0m\u001b[0;34m)\u001b[0m\u001b[0;34m\u001b[0m\u001b[0;34m\u001b[0m\u001b[0m\n\u001b[1;32m    447\u001b[0m     \u001b[0;32mif\u001b[0m \u001b[0mreturnPNG\u001b[0m\u001b[0;34m:\u001b[0m\u001b[0;34m\u001b[0m\u001b[0;34m\u001b[0m\u001b[0m\n",
      "\u001b[0;31mKeyboardInterrupt\u001b[0m: "
     ]
    }
   ],
   "source": [
    "gen_dir = 'generation_sdf_cod_train_untrained/'\n",
    "Path(gen_dir).mkdir(exist_ok=True)\n",
    "for batch_idx, batch in enumerate(data_module.train_dataloader()) :\n",
    "    generate_molecules(batch_idx, batch, gen_dir)"
   ]
  }
 ],
 "metadata": {
  "kernelspec": {
   "display_name": "Python 3",
   "language": "python",
   "name": "python3"
  },
  "language_info": {
   "codemirror_mode": {
    "name": "ipython",
    "version": 3
   },
   "file_extension": ".py",
   "mimetype": "text/x-python",
   "name": "python",
   "nbconvert_exporter": "python",
   "pygments_lexer": "ipython3",
   "version": "3.7.9"
  },
  "toc-autonumbering": false,
  "toc-showcode": false,
  "toc-showmarkdowntxt": false
 },
 "nbformat": 4,
 "nbformat_minor": 4
}
